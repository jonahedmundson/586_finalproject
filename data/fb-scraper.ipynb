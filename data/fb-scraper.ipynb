{
 "cells": [
  {
   "cell_type": "code",
   "execution_count": 1,
   "id": "fdf3d692",
   "metadata": {},
   "outputs": [],
   "source": [
    "import pandas as pd\n",
    "import time\n",
    "import re"
   ]
  },
  {
   "cell_type": "code",
   "execution_count": 2,
   "id": "c5077b41",
   "metadata": {},
   "outputs": [],
   "source": [
    "from selenium import webdriver\n",
    "from selenium.webdriver.support.ui import WebDriverWait\n",
    "from selenium.webdriver.common.by import By\n",
    "from selenium.webdriver.support import expected_conditions as EC\n",
    "from selenium.webdriver.common.keys import Keys\n",
    "from selenium.webdriver.firefox.options import Options\n",
    "from selenium.webdriver.common.action_chains import ActionChains\n",
    "\n",
    "#options\n",
    "option = Options()\n",
    "option.add_argument(\"--disable-infobars\")\n",
    "option.add_argument(\"start-maximized\")\n",
    "option.add_argument(\"--disable-extensions\")"
   ]
  },
  {
   "cell_type": "code",
   "execution_count": 6,
   "id": "cc05e3fa",
   "metadata": {},
   "outputs": [],
   "source": [
    "#user = 'denverhues123@gmail.com'\n",
    "#passw = 'u77$58YPPAah'\n",
    "user = 'fb-scraper333@proton.me'\n",
    "passw = 'z.18Y:s8K7Z3'"
   ]
  },
  {
   "cell_type": "markdown",
   "id": "ad4f6482",
   "metadata": {},
   "source": [
    "## Scraping Democrats"
   ]
  },
  {
   "cell_type": "code",
   "execution_count": 9,
   "id": "5c8dc75c",
   "metadata": {},
   "outputs": [
    {
     "name": "stdout",
     "output_type": "stream",
     "text": [
      "2696\n"
     ]
    }
   ],
   "source": [
    "url = 'https://www.facebook.com/groups/111188856119651/members'\n",
    "driver = webdriver.Firefox(options=option)\n",
    "wait = WebDriverWait(driver, 30)\n",
    "driver.get(url)\n",
    "email_field = wait.until(EC.visibility_of_element_located((By.NAME, 'email')))\n",
    "email_field.send_keys(user)\n",
    "pass_field = wait.until(EC.visibility_of_element_located((By.NAME, 'pass')))\n",
    "pass_field.send_keys(passw)\n",
    "pass_field.send_keys(Keys.RETURN)\n",
    "\n",
    "time.sleep(5)\n",
    "\n",
    "#scrolling down\n",
    "SCROLL_PAUSE_TIME = 0.5\n",
    "\n",
    "# Get scroll height\n",
    "last_height = driver.execute_script(\"return document.body.scrollHeight\")\n",
    "\n",
    "for i in range(1000):\n",
    "    # Scroll down to bottom\n",
    "    driver.execute_script(\"window.scrollTo(0, document.body.scrollHeight);\")\n",
    "\n",
    "    # Wait to load page\n",
    "    time.sleep(SCROLL_PAUSE_TIME)\n",
    "\n",
    "    # Calculate new scroll height and compare with last scroll height\n",
    "#     new_height = driver.execute_script(\"return document.body.scrollHeight\")\n",
    "#     if new_height == last_height:\n",
    "#         break\n",
    "#     last_height = new_height\n",
    "\n",
    "    \n",
    "\n",
    "#getting profile urls\n",
    "lst = WebDriverWait(driver, 30).until(EC.visibility_of_all_elements_located(('xpath', \"//*[@class='x1lq5wgf xgqcy7u x30kzoy x9jhf4c x1lliihq']\")))\n",
    "\n",
    "data = []\n",
    "profiles = []\n",
    "for i, value in enumerate(lst):\n",
    "    try:\n",
    "        data.append(value.find_elements(\"xpath\", \"//*[@class='x1i10hfl x1qjc9v5 xjbqb8w xjqpnuy xa49m3k xqeqjp1 x2hbi6w x13fuv20 xu3j5b3 x1q0q8m5 x26u7qi x972fbf xcfux6l x1qhh985 xm0m39n x9f619 x1ypdohk xdl72j9 x2lah0s xe8uvvx xdj266r x11i5rnm xat24cr x1mh8g0r x2lwn1j xeuugli xexx8yu x4uap5 x18d9i69 xkhd6sd x1n2onr6 x16tdsg8 x1hl2dhg xggy1nq x1ja2u2z x1t137rt x1o1ewxj x3x9cwd x1e5q0jg x13rtm0m x1q0g3np x87ps6o x1lku1pv x1rg5ohu x1a2a7pz']\")[i].get_attribute('href'))\n",
    "        profiles.append(re.sub('[^0-9]','', re.sub('.*user\\/', '', data[i])))\n",
    "    except:\n",
    "        pass\n",
    "    \n",
    "driver.quit()\n",
    "\n",
    "\n",
    "print(len(profiles))"
   ]
  },
  {
   "cell_type": "code",
   "execution_count": 4,
   "id": "94320058",
   "metadata": {},
   "outputs": [
    {
     "ename": "NameError",
     "evalue": "name 'profiles' is not defined",
     "output_type": "error",
     "traceback": [
      "\u001b[0;31m---------------------------------------------------------------------------\u001b[0m",
      "\u001b[0;31mNameError\u001b[0m                                 Traceback (most recent call last)",
      "Input \u001b[0;32mIn [4]\u001b[0m, in \u001b[0;36m<cell line: 3>\u001b[0;34m()\u001b[0m\n\u001b[1;32m      1\u001b[0m \u001b[38;5;28;01mimport\u001b[39;00m \u001b[38;5;21;01mdatetime\u001b[39;00m\n\u001b[1;32m      2\u001b[0m today \u001b[38;5;241m=\u001b[39m datetime\u001b[38;5;241m.\u001b[39mdatetime\u001b[38;5;241m.\u001b[39mtoday()\u001b[38;5;241m.\u001b[39mstrftime(\u001b[38;5;124m'\u001b[39m\u001b[38;5;124m%\u001b[39m\u001b[38;5;124mY-\u001b[39m\u001b[38;5;124m%\u001b[39m\u001b[38;5;124mm-\u001b[39m\u001b[38;5;132;01m%d\u001b[39;00m\u001b[38;5;124m'\u001b[39m)\n\u001b[0;32m----> 3\u001b[0m ids_save \u001b[38;5;241m=\u001b[39m pd\u001b[38;5;241m.\u001b[39mDataFrame({\u001b[38;5;124m'\u001b[39m\u001b[38;5;124mid\u001b[39m\u001b[38;5;124m'\u001b[39m: \u001b[43mprofiles\u001b[49m, \u001b[38;5;124m'\u001b[39m\u001b[38;5;124mhref\u001b[39m\u001b[38;5;124m'\u001b[39m: data})\n\u001b[1;32m      4\u001b[0m ids_save\u001b[38;5;241m.\u001b[39mto_csv(\u001b[38;5;124m'\u001b[39m\u001b[38;5;124mIDS_democrats_\u001b[39m\u001b[38;5;124m'\u001b[39m \u001b[38;5;241m+\u001b[39m \u001b[38;5;28mstr\u001b[39m(today) \u001b[38;5;241m+\u001b[39m \u001b[38;5;124m'\u001b[39m\u001b[38;5;124m.csv\u001b[39m\u001b[38;5;124m'\u001b[39m, index \u001b[38;5;241m=\u001b[39m \u001b[38;5;28;01mTrue\u001b[39;00m)\n",
      "\u001b[0;31mNameError\u001b[0m: name 'profiles' is not defined"
     ]
    }
   ],
   "source": [
    "import datetime\n",
    "today = datetime.datetime.today().strftime('%Y-%m-%d')\n",
    "ids_save = pd.DataFrame({'id': profiles, 'href': data})\n",
    "ids_save.to_csv('IDS_democrats_' + str(today) + '.csv', index = True)"
   ]
  },
  {
   "cell_type": "code",
   "execution_count": 4,
   "id": "5665be3f",
   "metadata": {},
   "outputs": [],
   "source": [
    "import facebook_scraper as fs\n",
    "from facebook_scraper import get_profile\n",
    "#https://github.com/kevinzg/facebook-scraper"
   ]
  },
  {
   "cell_type": "code",
   "execution_count": 12,
   "id": "c91f3182",
   "metadata": {
    "scrolled": false
   },
   "outputs": [
    {
     "name": "stderr",
     "output_type": "stream",
     "text": [
      "/home/jonah/Downloads/miniconda3/lib/python3.9/site-packages/facebook_scraper/facebook_scraper.py:912: UserWarning: Facebook says 'Unsupported Browser'\n",
      "  warnings.warn(f\"Facebook says 'Unsupported Browser'\")\n",
      "/home/jonah/Downloads/miniconda3/lib/python3.9/site-packages/dateparser/freshness_date_parser.py:76: PytzUsageWarning: The localize method is no longer necessary, as this time zone supports the fold attribute (PEP 495). For more details on migrating to a PEP 495-compliant implementation, see https://pytz-deprecation-shim.readthedocs.io/en/latest/migration.html\n",
      "  now = self.get_local_tz().localize(now)\n",
      "/home/jonah/Downloads/miniconda3/lib/python3.9/site-packages/facebook_scraper/facebook_scraper.py:908: UserWarning: Facebook served mbasic/noscript content unexpectedly on https://m.facebook.com/timeline/app_collection/?collection_token=100046020216883%3A103382489711013%3A33&paipv=0&eav=AfbbaHNR0ar67i7OKg6QRGuC2o11kTYNNbIyvWQefSHqH_4p0Cllal61YVzPCnLKOK8&_rdr\n",
      "  warnings.warn(\n"
     ]
    },
    {
     "name": "stdout",
     "output_type": "stream",
     "text": [
      "0 out of 2696 ... Check: 1\n"
     ]
    },
    {
     "name": "stderr",
     "output_type": "stream",
     "text": [
      "/home/jonah/Downloads/miniconda3/lib/python3.9/site-packages/facebook_scraper/facebook_scraper.py:908: UserWarning: Facebook served mbasic/noscript content unexpectedly on https://m.facebook.com/timeline/app_collection/?collection_token=100017949185424%3A103382489711013%3A33&paipv=0&eav=AfbHCm_X9rHcoXgGtfEdw_AeqijXBasIuVv6NtCzOlb1nnrml_kWixBYaqUBn12B05w&_rdr\n",
      "  warnings.warn(\n",
      "/home/jonah/Downloads/miniconda3/lib/python3.9/site-packages/facebook_scraper/facebook_scraper.py:908: UserWarning: Facebook served mbasic/noscript content unexpectedly on https://m.facebook.com/timeline/app_collection/?collection_token=100000066662111%3A103382489711013%3A33&paipv=0&eav=Afbeot1k2quWikw-435t2zgXtNqCizsvoKsLvTLW5uIlzgF75rYvPjReHKHoIM_RbMY&_rdr\n",
      "  warnings.warn(\n",
      "/home/jonah/Downloads/miniconda3/lib/python3.9/site-packages/facebook_scraper/facebook_scraper.py:908: UserWarning: Facebook served mbasic/noscript content unexpectedly on https://m.facebook.com/timeline/app_collection/?collection_token=1090885122%3A103382489711013%3A33&paipv=0&eav=AfYPh3D3eNbM1DTlWGX5sECTBWV8GA4ekVWOrQZcvnpvdUo5tnkwL7UasQL9_Hdqxy0&_rdr\n",
      "  warnings.warn(\n",
      "/home/jonah/Downloads/miniconda3/lib/python3.9/site-packages/facebook_scraper/facebook_scraper.py:908: UserWarning: Facebook served mbasic/noscript content unexpectedly on https://m.facebook.com/timeline/app_collection/?collection_token=100022180072437%3A103382489711013%3A33&paipv=0&eav=AfZIT-nAKuFnRSatEOkmlbdDB9oiyGGbj_fHy7Va8qeibM_RZhbnGEslgLbMZTllJQw&_rdr\n",
      "  warnings.warn(\n",
      "/home/jonah/Downloads/miniconda3/lib/python3.9/site-packages/facebook_scraper/facebook_scraper.py:908: UserWarning: Facebook served mbasic/noscript content unexpectedly on https://m.facebook.com/timeline/app_collection/?collection_token=100011721505773%3A103382489711013%3A33&paipv=0&eav=AfadJBFiSWX0GVV7w7nIGDS8Mac3BQSMqYHVC_eMeOc_JV-hlkBlN1G2O4FmwrtCg6Y&_rdr\n",
      "  warnings.warn(\n"
     ]
    },
    {
     "name": "stdout",
     "output_type": "stream",
     "text": [
      "100 out of 2696 ... Check: 97\n",
      "200 out of 2696 ... Check: 192\n",
      "300 out of 2696 ... Check: 290\n"
     ]
    },
    {
     "name": "stderr",
     "output_type": "stream",
     "text": [
      "/home/jonah/Downloads/miniconda3/lib/python3.9/site-packages/facebook_scraper/facebook_scraper.py:908: UserWarning: Facebook served mbasic/noscript content unexpectedly on https://m.facebook.com/timeline/app_collection/?collection_token=706137628%3A103382489711013%3A33&paipv=0&eav=AfbDp82KAD8j4rBEnxy5iutQ0A6_ZR_a6z6sqBK5aHL8fX1DRref6aCsjW54rNJ8eK0&_rdr\n",
      "  warnings.warn(\n",
      "/home/jonah/Downloads/miniconda3/lib/python3.9/site-packages/facebook_scraper/facebook_scraper.py:908: UserWarning: Facebook served mbasic/noscript content unexpectedly on https://m.facebook.com/timeline/app_collection/?collection_token=1271950617%3A103382489711013%3A33&paipv=0&eav=AfZ5CbvGE28RDeSwy0Ye_V_kPKQnUyiHWAacMOnjT2hILCyLXGJMB9qQcwoYXp7d22Y&_rdr\n",
      "  warnings.warn(\n",
      "/home/jonah/Downloads/miniconda3/lib/python3.9/site-packages/facebook_scraper/facebook_scraper.py:908: UserWarning: Facebook served mbasic/noscript content unexpectedly on https://m.facebook.com/timeline/app_collection/?collection_token=100001713767644%3A103382489711013%3A33&paipv=0&eav=AfarQ-DYN4rHqUSuZtLgtmlPOvq6c51KOM1wxtqSDwgA4rSkzNhf-9IY73a0g9TOBGg&_rdr\n",
      "  warnings.warn(\n"
     ]
    },
    {
     "name": "stdout",
     "output_type": "stream",
     "text": [
      "400 out of 2696 ... Check: 383\n",
      "500 out of 2696 ... Check: 476\n",
      "600 out of 2696 ... Check: 567\n",
      "700 out of 2696 ... Check: 583\n",
      "800 out of 2696 ... Check: 585\n",
      "900 out of 2696 ... Check: 587\n",
      "1000 out of 2696 ... Check: 590\n",
      "1100 out of 2696 ... Check: 592\n",
      "1200 out of 2696 ... Check: 592\n",
      "1300 out of 2696 ... Check: 597\n",
      "1400 out of 2696 ... Check: 599\n",
      "1500 out of 2696 ... Check: 600\n",
      "1600 out of 2696 ... Check: 601\n",
      "1700 out of 2696 ... Check: 603\n",
      "1800 out of 2696 ... Check: 607\n",
      "1900 out of 2696 ... Check: 609\n",
      "2000 out of 2696 ... Check: 612\n",
      "2100 out of 2696 ... Check: 615\n",
      "2200 out of 2696 ... Check: 616\n",
      "2300 out of 2696 ... Check: 617\n",
      "2400 out of 2696 ... Check: 619\n",
      "2500 out of 2696 ... Check: 622\n",
      "2600 out of 2696 ... Check: 626\n"
     ]
    },
    {
     "data": {
      "text/plain": [
       "631"
      ]
     },
     "execution_count": 12,
     "metadata": {},
     "output_type": "execute_result"
    }
   ],
   "source": [
    "#get datas\n",
    "profiles = pd.read_csv('./IDS_democrats_' + '2023-04-05' + '.csv')\n",
    "profiles = profiles['id']\n",
    "ids = []\n",
    "pfp = []\n",
    "status = []\n",
    "friends = []\n",
    "followers = []\n",
    "following = []\n",
    "name = []\n",
    "\n",
    "for i, value in enumerate(profiles):\n",
    "    try:\n",
    "        #get profile\n",
    "        temp = get_profile(str(profiles[i]), cookies=\"cookies-alt.json\", options={\"posts_per_page\": 0}) \n",
    "        #get relationship status\n",
    "        pfp.append(temp.get('profile_picture'))\n",
    "        status.append(temp.get('Relationship'))\n",
    "        ids.append(value)\n",
    "        friends.append(temp.get('Friend_count'))\n",
    "        followers.append(temp.get('Follower_count'))\n",
    "        following.append(temp.get('Following_count'))\n",
    "        name.append(temp.get('Name'))\n",
    "        time.sleep(0.8)\n",
    "        \n",
    "    except:\n",
    "        pass\n",
    "        \n",
    "    if i%100 == 0:\n",
    "        print(str(i), 'out of', str(len(profiles)), '... Check:', str(len(ids)))\n",
    "    \n",
    "#create dataframe\n",
    "df = pd.DataFrame({'id': ids, 'name': name, 'pfp': pfp, 'status': status, 'party': ['d']*len(ids), 'friends': friends, 'followers': followers, 'following': following})\n",
    "\n",
    "#save it\n",
    "import datetime\n",
    "today = datetime.datetime.today().strftime('%Y-%m-%d')\n",
    "df.to_csv('democrats_' + str(today) + '.csv', index = True)\n",
    "len(df.index)"
   ]
  },
  {
   "cell_type": "code",
   "execution_count": 11,
   "id": "27fa95ee",
   "metadata": {},
   "outputs": [
    {
     "data": {
      "text/plain": [
       "0"
      ]
     },
     "execution_count": 11,
     "metadata": {},
     "output_type": "execute_result"
    }
   ],
   "source": [
    "\n",
    "get_profile(str(profiles[3]), cookies=\"cookies-alt.json\", options={\"posts_per_page\": 0}) "
   ]
  },
  {
   "cell_type": "markdown",
   "id": "c3ea4831",
   "metadata": {},
   "source": [
    "## Scraping Republicans"
   ]
  },
  {
   "cell_type": "code",
   "execution_count": 13,
   "id": "e468c421",
   "metadata": {},
   "outputs": [
    {
     "name": "stdout",
     "output_type": "stream",
     "text": [
      "2656\n"
     ]
    }
   ],
   "source": [
    "url = 'https://www.facebook.com/groups/RU4TX/members'\n",
    "driver = webdriver.Firefox(options=option)\n",
    "wait = WebDriverWait(driver, 30)\n",
    "driver.get(url)\n",
    "email_field = wait.until(EC.visibility_of_element_located((By.NAME, 'email')))\n",
    "email_field.send_keys(user)\n",
    "pass_field = wait.until(EC.visibility_of_element_located((By.NAME, 'pass')))\n",
    "pass_field.send_keys(passw)\n",
    "pass_field.send_keys(Keys.RETURN)\n",
    "\n",
    "time.sleep(5)\n",
    "\n",
    "#scrolling down\n",
    "SCROLL_PAUSE_TIME = 0.5\n",
    "\n",
    "# Get scroll height\n",
    "last_height = driver.execute_script(\"return document.body.scrollHeight\")\n",
    "\n",
    "for i in range(1000):\n",
    "    # Scroll down to bottom\n",
    "    driver.execute_script(\"window.scrollTo(0, document.body.scrollHeight);\")\n",
    "\n",
    "    # Wait to load page\n",
    "    time.sleep(SCROLL_PAUSE_TIME)\n",
    "\n",
    "    # Calculate new scroll height and compare with last scroll height\n",
    "#     new_height = driver.execute_script(\"return document.body.scrollHeight\")\n",
    "#     if new_height == last_height:\n",
    "#         break\n",
    "#     last_height = new_height\n",
    "\n",
    "    \n",
    "\n",
    "#getting profile urls\n",
    "lst = WebDriverWait(driver, 30).until(EC.visibility_of_all_elements_located(('xpath', \"//*[@class='x1lq5wgf xgqcy7u x30kzoy x9jhf4c x1lliihq']\")))\n",
    "\n",
    "data = []\n",
    "profiles = []\n",
    "for i, value in enumerate(lst):\n",
    "    try:\n",
    "        data.append(value.find_elements(\"xpath\", \"//*[@class='x1i10hfl x1qjc9v5 xjbqb8w xjqpnuy xa49m3k xqeqjp1 x2hbi6w x13fuv20 xu3j5b3 x1q0q8m5 x26u7qi x972fbf xcfux6l x1qhh985 xm0m39n x9f619 x1ypdohk xdl72j9 x2lah0s xe8uvvx xdj266r x11i5rnm xat24cr x1mh8g0r x2lwn1j xeuugli xexx8yu x4uap5 x18d9i69 xkhd6sd x1n2onr6 x16tdsg8 x1hl2dhg xggy1nq x1ja2u2z x1t137rt x1o1ewxj x3x9cwd x1e5q0jg x13rtm0m x1q0g3np x87ps6o x1lku1pv x1rg5ohu x1a2a7pz']\")[i].get_attribute('href'))\n",
    "        profiles.append(re.sub('[^0-9]','', re.sub('.*user\\/', '', data[i])))\n",
    "    except:\n",
    "        pass\n",
    "    \n",
    "driver.quit()\n",
    "\n",
    "\n",
    "print(len(profiles))"
   ]
  },
  {
   "cell_type": "code",
   "execution_count": 14,
   "id": "cadc88a2",
   "metadata": {},
   "outputs": [],
   "source": [
    "ids_save = pd.DataFrame({'id': profiles, 'href': data})\n",
    "ids_save.to_csv('IDS_republicans_' + str(today) + '.csv', index = True)"
   ]
  },
  {
   "cell_type": "code",
   "execution_count": 9,
   "id": "83d8d992",
   "metadata": {},
   "outputs": [
    {
     "name": "stderr",
     "output_type": "stream",
     "text": [
      "/home/jonah/Downloads/miniconda3/lib/python3.9/site-packages/facebook_scraper/facebook_scraper.py:912: UserWarning: Facebook says 'Unsupported Browser'\n",
      "  warnings.warn(f\"Facebook says 'Unsupported Browser'\")\n"
     ]
    },
    {
     "name": "stdout",
     "output_type": "stream",
     "text": [
      "0 out of 2656 ... Check: 1\n"
     ]
    },
    {
     "name": "stderr",
     "output_type": "stream",
     "text": [
      "/home/jonah/Downloads/miniconda3/lib/python3.9/site-packages/dateparser/freshness_date_parser.py:76: PytzUsageWarning: The localize method is no longer necessary, as this time zone supports the fold attribute (PEP 495). For more details on migrating to a PEP 495-compliant implementation, see https://pytz-deprecation-shim.readthedocs.io/en/latest/migration.html\n",
      "  now = self.get_local_tz().localize(now)\n",
      "/home/jonah/Downloads/miniconda3/lib/python3.9/site-packages/facebook_scraper/facebook_scraper.py:908: UserWarning: Facebook served mbasic/noscript content unexpectedly on https://m.facebook.com/timeline/app_collection/?collection_token=100051434944232%3A103382489711013%3A33&paipv=0&eav=Afaw7JWhmgP6gSzJJrKg94kLfjhYi7oKqHQR_2nu8UY4UbOPjjMtDhiYq8LHoqIOMOQ&_rdr\n",
      "  warnings.warn(\n",
      "/home/jonah/Downloads/miniconda3/lib/python3.9/site-packages/facebook_scraper/facebook_scraper.py:908: UserWarning: Facebook served mbasic/noscript content unexpectedly on https://m.facebook.com/timeline/app_collection/?collection_token=100075473293288%3A103382489711013%3A33&paipv=0&eav=AfZjAHVgeaJPi1NhCkMiaSiVTAfEhIr8EsUqJLE1n6eYDU-kd_G_YQB06myg4ijIku4&_rdr\n",
      "  warnings.warn(\n",
      "/home/jonah/Downloads/miniconda3/lib/python3.9/site-packages/facebook_scraper/facebook_scraper.py:908: UserWarning: Facebook served mbasic/noscript content unexpectedly on https://m.facebook.com/timeline/app_collection/?collection_token=100090063464510%3A103382489711013%3A33&paipv=0&eav=AfbNcRmKlum2qYW2pLgPfNFpRWPhQarcRJkvve4ITM5pXi_ufar1I3aumh3GB5Ab-fg&_rdr\n",
      "  warnings.warn(\n"
     ]
    },
    {
     "name": "stdout",
     "output_type": "stream",
     "text": [
      "100 out of 2656 ... Check: 99\n",
      "200 out of 2656 ... Check: 198\n",
      "300 out of 2656 ... Check: 293\n",
      "400 out of 2656 ... Check: 391\n",
      "500 out of 2656 ... Check: 485\n",
      "600 out of 2656 ... Check: 585\n",
      "700 out of 2656 ... Check: 683\n",
      "800 out of 2656 ... Check: 783\n",
      "900 out of 2656 ... Check: 883\n",
      "1000 out of 2656 ... Check: 981\n",
      "1100 out of 2656 ... Check: 1081\n",
      "1200 out of 2656 ... Check: 1181\n",
      "1300 out of 2656 ... Check: 1281\n",
      "1400 out of 2656 ... Check: 1379\n",
      "1500 out of 2656 ... Check: 1478\n",
      "1600 out of 2656 ... Check: 1570\n",
      "1700 out of 2656 ... Check: 1668\n",
      "1800 out of 2656 ... Check: 1767\n",
      "1900 out of 2656 ... Check: 1866\n",
      "2000 out of 2656 ... Check: 1945\n",
      "2100 out of 2656 ... Check: 2042\n",
      "2200 out of 2656 ... Check: 2138\n",
      "2300 out of 2656 ... Check: 2142\n",
      "2400 out of 2656 ... Check: 2144\n",
      "2500 out of 2656 ... Check: 2148\n",
      "2600 out of 2656 ... Check: 2150\n"
     ]
    },
    {
     "data": {
      "text/plain": [
       "2154"
      ]
     },
     "execution_count": 9,
     "metadata": {},
     "output_type": "execute_result"
    }
   ],
   "source": [
    "#get datas\n",
    "profiles = pd.read_csv('./IDS_republicans_' + '2023-04-05' + '.csv')\n",
    "profiles = profiles['id']\n",
    "\n",
    "ids = []\n",
    "pfp = []\n",
    "status = []\n",
    "friends = []\n",
    "followers = []\n",
    "following = []\n",
    "name = []\n",
    "\n",
    "for i, value in enumerate(profiles):\n",
    "    try:\n",
    "        #get profile\n",
    "        temp = get_profile(str(profiles[i]), cookies=\"cookies-alt.json\", options={\"posts_per_page\": 0}) \n",
    "        #get relationship status\n",
    "        pfp.append(temp.get('profile_picture'))\n",
    "        status.append(temp.get('Relationship'))\n",
    "        ids.append(value)\n",
    "        friends.append(temp.get('Friend_count'))\n",
    "        followers.append(temp.get('Follower_count'))\n",
    "        following.append(temp.get('Following_count'))\n",
    "        name.append(temp.get('Name'))\n",
    "        time.sleep(0.8)\n",
    "        \n",
    "    except:\n",
    "        pass\n",
    "    \n",
    "    if i%100 == 0:\n",
    "        print(str(i), 'out of', str(len(profiles)), '... Check:', str(len(ids)))\n",
    "    \n",
    "#create dataframe\n",
    "df = pd.DataFrame({'id': ids, 'name': name, 'pfp': pfp, 'status': status, 'party': ['r']*len(ids), 'friends': friends, 'followers': followers, 'following': following})\n",
    "\n",
    "#save it\n",
    "import datetime\n",
    "today = datetime.datetime.today().strftime('%Y-%m-%d')\n",
    "df.to_csv('republicans_' + str(today) + '.csv', index = True)\n",
    "len(df.index)"
   ]
  },
  {
   "cell_type": "code",
   "execution_count": null,
   "id": "e6f8469a",
   "metadata": {},
   "outputs": [],
   "source": [
    "profiles[1]"
   ]
  },
  {
   "cell_type": "code",
   "execution_count": 8,
   "id": "fe794ef7",
   "metadata": {},
   "outputs": [
    {
     "name": "stderr",
     "output_type": "stream",
     "text": [
      "/home/jonah/Downloads/miniconda3/lib/python3.9/site-packages/facebook_scraper/facebook_scraper.py:912: UserWarning: Facebook says 'Unsupported Browser'\n",
      "  warnings.warn(f\"Facebook says 'Unsupported Browser'\")\n"
     ]
    },
    {
     "data": {
      "text/plain": [
       "{'Friend_count': None,\n",
       " 'Follower_count': None,\n",
       " 'Following_count': None,\n",
       " 'id': '105411447689390',\n",
       " 'Name': 'Marbles Mahoney - About'}"
      ]
     },
     "execution_count": 8,
     "metadata": {},
     "output_type": "execute_result"
    }
   ],
   "source": [
    "profiles = pd.read_csv('./IDS_democrats_' + '2023-04-05' + '.csv')\n",
    "profiles = profiles['id']\n",
    "get_profile(str(profiles[3]), cookies=\"cookies-alt.json\", options={\"posts_per_page\": 0}) "
   ]
  },
  {
   "cell_type": "code",
   "execution_count": null,
   "id": "173aa99b",
   "metadata": {},
   "outputs": [],
   "source": []
  }
 ],
 "metadata": {
  "kernelspec": {
   "display_name": "Python 3",
   "language": "python",
   "name": "python3"
  },
  "language_info": {
   "codemirror_mode": {
    "name": "ipython",
    "version": 3
   },
   "file_extension": ".py",
   "mimetype": "text/x-python",
   "name": "python",
   "nbconvert_exporter": "python",
   "pygments_lexer": "ipython3",
   "version": "3.9.12"
  }
 },
 "nbformat": 4,
 "nbformat_minor": 5
}
