{
 "cells": [
  {
   "cell_type": "code",
   "execution_count": 1,
   "id": "fdf3d692",
   "metadata": {},
   "outputs": [],
   "source": [
    "import pandas as pd\n",
    "import time\n",
    "import re"
   ]
  },
  {
   "cell_type": "code",
   "execution_count": 2,
   "id": "c5077b41",
   "metadata": {},
   "outputs": [],
   "source": [
    "from selenium import webdriver\n",
    "from selenium.webdriver.support.ui import WebDriverWait\n",
    "from selenium.webdriver.common.by import By\n",
    "from selenium.webdriver.support import expected_conditions as EC\n",
    "from selenium.webdriver.common.keys import Keys\n",
    "from selenium.webdriver.firefox.options import Options\n",
    "from selenium.webdriver.common.action_chains import ActionChains\n",
    "\n",
    "#options\n",
    "option = Options()\n",
    "option.add_argument(\"--disable-infobars\")\n",
    "option.add_argument(\"start-maximized\")\n",
    "option.add_argument(\"--disable-extensions\")"
   ]
  },
  {
   "cell_type": "code",
   "execution_count": 3,
   "id": "cc05e3fa",
   "metadata": {},
   "outputs": [],
   "source": [
    "user = 'denverhues123@gmail.com'\n",
    "passw = 'u77$58YPPAah'"
   ]
  },
  {
   "cell_type": "markdown",
   "id": "ad4f6482",
   "metadata": {},
   "source": [
    "## Scraping Democrats"
   ]
  },
  {
   "cell_type": "code",
   "execution_count": 9,
   "id": "5c8dc75c",
   "metadata": {},
   "outputs": [
    {
     "name": "stdout",
     "output_type": "stream",
     "text": [
      "2696\n"
     ]
    }
   ],
   "source": [
    "url = 'https://www.facebook.com/groups/111188856119651/members'\n",
    "driver = webdriver.Firefox(options=option)\n",
    "wait = WebDriverWait(driver, 30)\n",
    "driver.get(url)\n",
    "email_field = wait.until(EC.visibility_of_element_located((By.NAME, 'email')))\n",
    "email_field.send_keys(user)\n",
    "pass_field = wait.until(EC.visibility_of_element_located((By.NAME, 'pass')))\n",
    "pass_field.send_keys(passw)\n",
    "pass_field.send_keys(Keys.RETURN)\n",
    "\n",
    "time.sleep(5)\n",
    "\n",
    "#scrolling down\n",
    "SCROLL_PAUSE_TIME = 0.5\n",
    "\n",
    "# Get scroll height\n",
    "last_height = driver.execute_script(\"return document.body.scrollHeight\")\n",
    "\n",
    "for i in range(1000):\n",
    "    # Scroll down to bottom\n",
    "    driver.execute_script(\"window.scrollTo(0, document.body.scrollHeight);\")\n",
    "\n",
    "    # Wait to load page\n",
    "    time.sleep(SCROLL_PAUSE_TIME)\n",
    "\n",
    "    # Calculate new scroll height and compare with last scroll height\n",
    "#     new_height = driver.execute_script(\"return document.body.scrollHeight\")\n",
    "#     if new_height == last_height:\n",
    "#         break\n",
    "#     last_height = new_height\n",
    "\n",
    "    \n",
    "\n",
    "#getting profile urls\n",
    "lst = WebDriverWait(driver, 30).until(EC.visibility_of_all_elements_located(('xpath', \"//*[@class='x1lq5wgf xgqcy7u x30kzoy x9jhf4c x1lliihq']\")))\n",
    "\n",
    "data = []\n",
    "profiles = []\n",
    "for i, value in enumerate(lst):\n",
    "    try:\n",
    "        data.append(value.find_elements(\"xpath\", \"//*[@class='x1i10hfl x1qjc9v5 xjbqb8w xjqpnuy xa49m3k xqeqjp1 x2hbi6w x13fuv20 xu3j5b3 x1q0q8m5 x26u7qi x972fbf xcfux6l x1qhh985 xm0m39n x9f619 x1ypdohk xdl72j9 x2lah0s xe8uvvx xdj266r x11i5rnm xat24cr x1mh8g0r x2lwn1j xeuugli xexx8yu x4uap5 x18d9i69 xkhd6sd x1n2onr6 x16tdsg8 x1hl2dhg xggy1nq x1ja2u2z x1t137rt x1o1ewxj x3x9cwd x1e5q0jg x13rtm0m x1q0g3np x87ps6o x1lku1pv x1rg5ohu x1a2a7pz']\")[i].get_attribute('href'))\n",
    "        profiles.append(re.sub('[^0-9]','', re.sub('.*user\\/', '', data[i])))\n",
    "    except:\n",
    "        pass\n",
    "    \n",
    "driver.quit()\n",
    "\n",
    "\n",
    "print(len(profiles))"
   ]
  },
  {
   "cell_type": "code",
   "execution_count": 4,
   "id": "94320058",
   "metadata": {},
   "outputs": [
    {
     "ename": "NameError",
     "evalue": "name 'profiles' is not defined",
     "output_type": "error",
     "traceback": [
      "\u001b[0;31m---------------------------------------------------------------------------\u001b[0m",
      "\u001b[0;31mNameError\u001b[0m                                 Traceback (most recent call last)",
      "Input \u001b[0;32mIn [4]\u001b[0m, in \u001b[0;36m<cell line: 3>\u001b[0;34m()\u001b[0m\n\u001b[1;32m      1\u001b[0m \u001b[38;5;28;01mimport\u001b[39;00m \u001b[38;5;21;01mdatetime\u001b[39;00m\n\u001b[1;32m      2\u001b[0m today \u001b[38;5;241m=\u001b[39m datetime\u001b[38;5;241m.\u001b[39mdatetime\u001b[38;5;241m.\u001b[39mtoday()\u001b[38;5;241m.\u001b[39mstrftime(\u001b[38;5;124m'\u001b[39m\u001b[38;5;124m%\u001b[39m\u001b[38;5;124mY-\u001b[39m\u001b[38;5;124m%\u001b[39m\u001b[38;5;124mm-\u001b[39m\u001b[38;5;132;01m%d\u001b[39;00m\u001b[38;5;124m'\u001b[39m)\n\u001b[0;32m----> 3\u001b[0m ids_save \u001b[38;5;241m=\u001b[39m pd\u001b[38;5;241m.\u001b[39mDataFrame({\u001b[38;5;124m'\u001b[39m\u001b[38;5;124mid\u001b[39m\u001b[38;5;124m'\u001b[39m: \u001b[43mprofiles\u001b[49m, \u001b[38;5;124m'\u001b[39m\u001b[38;5;124mhref\u001b[39m\u001b[38;5;124m'\u001b[39m: data})\n\u001b[1;32m      4\u001b[0m ids_save\u001b[38;5;241m.\u001b[39mto_csv(\u001b[38;5;124m'\u001b[39m\u001b[38;5;124mIDS_democrats_\u001b[39m\u001b[38;5;124m'\u001b[39m \u001b[38;5;241m+\u001b[39m \u001b[38;5;28mstr\u001b[39m(today) \u001b[38;5;241m+\u001b[39m \u001b[38;5;124m'\u001b[39m\u001b[38;5;124m.csv\u001b[39m\u001b[38;5;124m'\u001b[39m, index \u001b[38;5;241m=\u001b[39m \u001b[38;5;28;01mTrue\u001b[39;00m)\n",
      "\u001b[0;31mNameError\u001b[0m: name 'profiles' is not defined"
     ]
    }
   ],
   "source": [
    "import datetime\n",
    "today = datetime.datetime.today().strftime('%Y-%m-%d')\n",
    "ids_save = pd.DataFrame({'id': profiles, 'href': data})\n",
    "ids_save.to_csv('IDS_democrats_' + str(today) + '.csv', index = True)"
   ]
  },
  {
   "cell_type": "code",
   "execution_count": 4,
   "id": "5665be3f",
   "metadata": {},
   "outputs": [],
   "source": [
    "import facebook_scraper as fs\n",
    "from facebook_scraper import get_profile\n",
    "#https://github.com/kevinzg/facebook-scraper"
   ]
  },
  {
   "cell_type": "code",
   "execution_count": null,
   "id": "c91f3182",
   "metadata": {},
   "outputs": [
    {
     "name": "stdout",
     "output_type": "stream",
     "text": [
      "0 out of 19\n"
     ]
    },
    {
     "name": "stderr",
     "output_type": "stream",
     "text": [
      "/home/jonah/Downloads/miniconda3/lib/python3.9/site-packages/facebook_scraper/facebook_scraper.py:912: UserWarning: Facebook says 'Unsupported Browser'\n",
      "  warnings.warn(f\"Facebook says 'Unsupported Browser'\")\n",
      "/home/jonah/Downloads/miniconda3/lib/python3.9/site-packages/dateparser/freshness_date_parser.py:76: PytzUsageWarning: The localize method is no longer necessary, as this time zone supports the fold attribute (PEP 495). For more details on migrating to a PEP 495-compliant implementation, see https://pytz-deprecation-shim.readthedocs.io/en/latest/migration.html\n",
      "  now = self.get_local_tz().localize(now)\n"
     ]
    }
   ],
   "source": [
    "#get datas\n",
    "profiles = pd.read_csv('./IDS_democrats_' + '2023-04-05' + '.csv')\n",
    "profiles = profiles['id']\n",
    "ids = []\n",
    "pfp = []\n",
    "status = []\n",
    "friends = []\n",
    "followers = []\n",
    "following = []\n",
    "name = []\n",
    "\n",
    "for i, value in enumerate(profiles):\n",
    "    try:\n",
    "        #get profile\n",
    "        temp = get_profile(str(profiles[i]), cookies=\"cookies.json\", options={\"posts_per_page\": 0}) \n",
    "        #get relationship status\n",
    "        pfp.append(temp.get('profile_picture'))\n",
    "        status.append(temp.get('Relationship'))\n",
    "        ids.append(value)\n",
    "        friends.append(temp.get('Friend_count'))\n",
    "        followers.append(temp.get('Follower_count'))\n",
    "        following.append(temp.get('Following_count'))\n",
    "        name.append(temp.get('Name'))\n",
    "        \n",
    "    except:\n",
    "        pass\n",
    "        \n",
    "    if i%100 == 0:\n",
    "        print(str(i), 'out of', str(len(profiles)))\n",
    "    \n",
    "#create dataframe\n",
    "df = pd.DataFrame({'id': ids, 'name': name, 'pfp': pfp, 'status': status, 'party': ['d']*len(ids), 'friends': friends, 'followers': followers, 'following': following})\n",
    "\n",
    "#save it\n",
    "import datetime\n",
    "today = datetime.datetime.today().strftime('%Y-%m-%d')\n",
    "df.to_csv('democrats_' + str(today) + '.csv', index = True)"
   ]
  },
  {
   "cell_type": "markdown",
   "id": "c3ea4831",
   "metadata": {},
   "source": [
    "## Scraping Republicans"
   ]
  },
  {
   "cell_type": "code",
   "execution_count": 13,
   "id": "e468c421",
   "metadata": {},
   "outputs": [
    {
     "name": "stdout",
     "output_type": "stream",
     "text": [
      "2656\n"
     ]
    }
   ],
   "source": [
    "url = 'https://www.facebook.com/groups/RU4TX/members'\n",
    "driver = webdriver.Firefox(options=option)\n",
    "wait = WebDriverWait(driver, 30)\n",
    "driver.get(url)\n",
    "email_field = wait.until(EC.visibility_of_element_located((By.NAME, 'email')))\n",
    "email_field.send_keys(user)\n",
    "pass_field = wait.until(EC.visibility_of_element_located((By.NAME, 'pass')))\n",
    "pass_field.send_keys(passw)\n",
    "pass_field.send_keys(Keys.RETURN)\n",
    "\n",
    "time.sleep(5)\n",
    "\n",
    "#scrolling down\n",
    "SCROLL_PAUSE_TIME = 0.5\n",
    "\n",
    "# Get scroll height\n",
    "last_height = driver.execute_script(\"return document.body.scrollHeight\")\n",
    "\n",
    "for i in range(1000):\n",
    "    # Scroll down to bottom\n",
    "    driver.execute_script(\"window.scrollTo(0, document.body.scrollHeight);\")\n",
    "\n",
    "    # Wait to load page\n",
    "    time.sleep(SCROLL_PAUSE_TIME)\n",
    "\n",
    "    # Calculate new scroll height and compare with last scroll height\n",
    "#     new_height = driver.execute_script(\"return document.body.scrollHeight\")\n",
    "#     if new_height == last_height:\n",
    "#         break\n",
    "#     last_height = new_height\n",
    "\n",
    "    \n",
    "\n",
    "#getting profile urls\n",
    "lst = WebDriverWait(driver, 30).until(EC.visibility_of_all_elements_located(('xpath', \"//*[@class='x1lq5wgf xgqcy7u x30kzoy x9jhf4c x1lliihq']\")))\n",
    "\n",
    "data = []\n",
    "profiles = []\n",
    "for i, value in enumerate(lst):\n",
    "    try:\n",
    "        data.append(value.find_elements(\"xpath\", \"//*[@class='x1i10hfl x1qjc9v5 xjbqb8w xjqpnuy xa49m3k xqeqjp1 x2hbi6w x13fuv20 xu3j5b3 x1q0q8m5 x26u7qi x972fbf xcfux6l x1qhh985 xm0m39n x9f619 x1ypdohk xdl72j9 x2lah0s xe8uvvx xdj266r x11i5rnm xat24cr x1mh8g0r x2lwn1j xeuugli xexx8yu x4uap5 x18d9i69 xkhd6sd x1n2onr6 x16tdsg8 x1hl2dhg xggy1nq x1ja2u2z x1t137rt x1o1ewxj x3x9cwd x1e5q0jg x13rtm0m x1q0g3np x87ps6o x1lku1pv x1rg5ohu x1a2a7pz']\")[i].get_attribute('href'))\n",
    "        profiles.append(re.sub('[^0-9]','', re.sub('.*user\\/', '', data[i])))\n",
    "    except:\n",
    "        pass\n",
    "    \n",
    "driver.quit()\n",
    "\n",
    "\n",
    "print(len(profiles))"
   ]
  },
  {
   "cell_type": "code",
   "execution_count": 14,
   "id": "cadc88a2",
   "metadata": {},
   "outputs": [],
   "source": [
    "ids_save = pd.DataFrame({'id': profiles, 'href': data})\n",
    "ids_save.to_csv('IDS_republicans_' + str(today) + '.csv', index = True)"
   ]
  },
  {
   "cell_type": "code",
   "execution_count": null,
   "id": "83d8d992",
   "metadata": {},
   "outputs": [],
   "source": [
    "#get datas\n",
    "profiles = pd.read_csv('./IDS_republicans_' + '2023-04-05' + '.csv')\n",
    "profiles = profiles['id']\n",
    "\n",
    "ids = []\n",
    "pfp = []\n",
    "status = []\n",
    "friends = []\n",
    "followers = []\n",
    "following = []\n",
    "name = []\n",
    "\n",
    "for i, value in enumerate(profiles):\n",
    "    try:\n",
    "        #get profile\n",
    "        temp = get_profile(profiles[i], cookies=\"cookies.json\", options={\"posts_per_page\": 0}) \n",
    "        #get relationship status\n",
    "        pfp.append(temp.get('profile_picture'))\n",
    "        status.append(temp.get('Relationship'))\n",
    "        ids.append(value)\n",
    "        friends.append(temp.get('Friend_count'))\n",
    "        followers.append(temp.get('Follower_count'))\n",
    "        following.append(temp.get('Following_count'))\n",
    "        name.append(temp.get('Name'))\n",
    "        \n",
    "    except:\n",
    "        pass\n",
    "    \n",
    "#create dataframe\n",
    "df = pd.DataFrame({'id': ids, 'name': name, 'pfp': pfp, 'status': status, 'party': ['r']*len(ids), 'friends': friends, 'followers': followers, 'following': following})\n",
    "\n",
    "#save it\n",
    "import datetime\n",
    "today = datetime.datetime.today().strftime('%Y-%m-%d')\n",
    "df.to_csv('republicans_' + str(today) + '.csv', index = True)"
   ]
  },
  {
   "cell_type": "code",
   "execution_count": null,
   "id": "e6f8469a",
   "metadata": {},
   "outputs": [],
   "source": []
  }
 ],
 "metadata": {
  "kernelspec": {
   "display_name": "Python 3",
   "language": "python",
   "name": "python3"
  },
  "language_info": {
   "codemirror_mode": {
    "name": "ipython",
    "version": 3
   },
   "file_extension": ".py",
   "mimetype": "text/x-python",
   "name": "python",
   "nbconvert_exporter": "python",
   "pygments_lexer": "ipython3",
   "version": "3.9.12"
  }
 },
 "nbformat": 4,
 "nbformat_minor": 5
}
