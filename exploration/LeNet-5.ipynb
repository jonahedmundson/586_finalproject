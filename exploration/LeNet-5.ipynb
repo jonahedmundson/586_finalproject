{
 "cells": [
  {
   "cell_type": "markdown",
   "id": "d86b67dc",
   "metadata": {},
   "source": [
    "# LeNet-5 Architechture\n",
    "\n",
    "Taken from DATA586 Lab 3 MDS UBCO"
   ]
  },
  {
   "cell_type": "code",
   "execution_count": 42,
   "id": "d0a1d5bc",
   "metadata": {},
   "outputs": [],
   "source": [
    "import os\n",
    "import time\n",
    "import math\n",
    "\n",
    "import numpy as np\n",
    "import pandas as pd\n",
    "\n",
    "import torch\n",
    "import torch.nn as nn\n",
    "import torch.nn.functional as F\n",
    "from torch.utils.data import DataLoader\n",
    "\n",
    "from torchvision import datasets\n",
    "from torchvision import transforms\n",
    "\n",
    "import matplotlib.pyplot as plt\n",
    "from PIL import Image\n",
    "\n",
    "\n",
    "if torch.cuda.is_available():\n",
    "    torch.backends.cudnn.deterministic = True"
   ]
  },
  {
   "cell_type": "markdown",
   "id": "8f41a521",
   "metadata": {},
   "source": [
    "## Model Settings"
   ]
  },
  {
   "cell_type": "code",
   "execution_count": 43,
   "id": "b89e8b4f",
   "metadata": {},
   "outputs": [],
   "source": [
    "##########################\n",
    "### SETTINGS\n",
    "##########################\n",
    "\n",
    "# Hyperparameters\n",
    "RANDOM_SEED = 1\n",
    "LEARNING_RATE = 0.0015\n",
    "BATCH_SIZE = 128\n",
    "NUM_EPOCHS = 10\n",
    "\n",
    "# Architecture\n",
    "NUM_FEATURES = 32*32\n",
    "NUM_CLASSES = 10\n",
    "\n",
    "# Other\n",
    "if torch.cuda.is_available():\n",
    "    DEVICE = \"cuda:0\"\n",
    "else:\n",
    "    DEVICE = \"cpu\"\n",
    "\n",
    "GRAYSCALE = False"
   ]
  },
  {
   "cell_type": "markdown",
   "id": "92afa00b",
   "metadata": {},
   "source": [
    "## Loading Data"
   ]
  },
  {
   "cell_type": "code",
   "execution_count": 57,
   "id": "beb0f177",
   "metadata": {},
   "outputs": [
    {
     "name": "stderr",
     "output_type": "stream",
     "text": [
      "<ipython-input-57-d277fed3c4a6>:4: FutureWarning: The frame.append method is deprecated and will be removed from pandas in a future version. Use pandas.concat instead.\n",
      "  df = dems.append(repubs)\n"
     ]
    },
    {
     "ename": "NameError",
     "evalue": "name 'AutoAugment' is not defined",
     "output_type": "error",
     "traceback": [
      "\u001b[0;31m---------------------------------------------------------------------------\u001b[0m",
      "\u001b[0;31mNameError\u001b[0m                                 Traceback (most recent call last)",
      "Input \u001b[0;32mIn [57]\u001b[0m, in \u001b[0;36m<cell line: 20>\u001b[0;34m()\u001b[0m\n\u001b[1;32m     17\u001b[0m test \u001b[38;5;241m=\u001b[39m df\u001b[38;5;241m.\u001b[39miloc[\u001b[38;5;241m1706\u001b[39m:]\n\u001b[1;32m     19\u001b[0m \u001b[38;5;66;03m#performing augmentation on training set\u001b[39;00m\n\u001b[1;32m     20\u001b[0m transforms \u001b[38;5;241m=\u001b[39m torch\u001b[38;5;241m.\u001b[39mnn\u001b[38;5;241m.\u001b[39mSequential(\n\u001b[0;32m---> 21\u001b[0m     \u001b[43mAutoAugment\u001b[49m()\n\u001b[1;32m     22\u001b[0m )\n\u001b[1;32m     23\u001b[0m scripted_transforms \u001b[38;5;241m=\u001b[39m torch\u001b[38;5;241m.\u001b[39mjit\u001b[38;5;241m.\u001b[39mscript(transforms)\n\u001b[1;32m     24\u001b[0m scripted_transforms\n",
      "\u001b[0;31mNameError\u001b[0m: name 'AutoAugment' is not defined"
     ]
    }
   ],
   "source": [
    "#loading faces\n",
    "dems = []\n",
    "repubs = []\n",
    "for i in range(3):\n",
    "    dems.append(pd.read_pickle('democrat_faces_' + str(i) + '.pkl'))\n",
    "    repubs.append(pd.read_pickle('republican_faces' + str(i) + '.pkl')) \n",
    "\n",
    "dems = pd.concat(dems)\n",
    "repubs = pd.concat(repubs)\n",
    "df = pd.concat([dems, repubs])\n",
    "df = df.reset_index(drop=True)\n",
    "\n",
    "\n",
    "#removing rows with no party affiliation\n",
    "df = df[df['party'].isin(['R', 'D'])]\n",
    "\n",
    "#shuffling order\n",
    "df = df.sample(frac=1).reset_index(drop=True)\n",
    "\n",
    "#creating train, validation and test sets --> 80/5/15 rule\n",
    "train = df.iloc[0:1606]\n",
    "#train.tail()\n",
    "valid = df.iloc[1605:1705]\n",
    "test = df.iloc[1706:]\n",
    "\n",
    "#performing augmentation on training set\n",
    "train_transform = transforms.Compose([transforms.Resize((32, 32)),\n",
    "                                      transforms.AutoAugment(),\n",
    "                                       transforms.ToTensor(),\n",
    "                                       transforms.Normalize(train_mean, train_std)], \n",
    "                                      )"
   ]
  },
  {
   "cell_type": "markdown",
   "id": "a662a278",
   "metadata": {},
   "source": [
    "## Model"
   ]
  },
  {
   "cell_type": "code",
   "execution_count": null,
   "id": "4efc726d",
   "metadata": {},
   "outputs": [],
   "source": []
  },
  {
   "cell_type": "markdown",
   "id": "d2a9870f",
   "metadata": {},
   "source": [
    "### Without Augmentation"
   ]
  },
  {
   "cell_type": "code",
   "execution_count": null,
   "id": "2fce4851",
   "metadata": {},
   "outputs": [],
   "source": []
  },
  {
   "cell_type": "markdown",
   "id": "6c84aea3",
   "metadata": {},
   "source": [
    "### With Augmentation"
   ]
  },
  {
   "cell_type": "code",
   "execution_count": null,
   "id": "a491bbe1",
   "metadata": {},
   "outputs": [],
   "source": []
  }
 ],
 "metadata": {
  "kernelspec": {
   "display_name": "Python 3",
   "language": "python",
   "name": "python3"
  },
  "language_info": {
   "codemirror_mode": {
    "name": "ipython",
    "version": 3
   },
   "file_extension": ".py",
   "mimetype": "text/x-python",
   "name": "python",
   "nbconvert_exporter": "python",
   "pygments_lexer": "ipython3",
   "version": "3.9.12"
  }
 },
 "nbformat": 4,
 "nbformat_minor": 5
}
